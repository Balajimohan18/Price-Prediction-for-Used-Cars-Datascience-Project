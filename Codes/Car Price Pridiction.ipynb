{
 "cells": [
  {
   "cell_type": "markdown",
   "id": "09501e0e",
   "metadata": {},
   "source": [
    "## Car Price Prediction Project"
   ]
  },
  {
   "cell_type": "markdown",
   "id": "9ff89cef",
   "metadata": {},
   "source": [
    "\n",
    "_**Importing the required libraries, packages & dataset**_"
   ]
  },
  {
   "cell_type": "code",
   "execution_count": 1,
   "id": "6ab4710c",
   "metadata": {},
   "outputs": [],
   "source": [
    "import datetime\n",
    "import numpy as np\n",
    "import pandas as pd\n",
    "import seaborn as sns\n",
    "import matplotlib.pyplot as plt\n",
    "import os\n",
    "from math import sqrt\n",
    "from sklearn.preprocessing import StandardScaler\n",
    "from sklearn.metrics import r2_score,mean_absolute_error,mean_squared_error\n",
    "from sklearn.model_selection import train_test_split,GridSearchCV\n",
    "from sklearn.linear_model import LinearRegression,Lasso,Ridge\n",
    "from sklearn.ensemble import ExtraTreesRegressor,RandomForestRegressor,AdaBoostRegressor\n",
    "from xgboost import XGBRegressor\n",
    "from catboost import CatBoostRegressor\n",
    "from lightgbm import LGBMRegressor\n",
    "%matplotlib inline\n",
    "import pickle\n",
    "import warnings\n",
    "warnings.filterwarnings('ignore')"
   ]
  },
  {
   "cell_type": "markdown",
   "id": "8fcbf7e4",
   "metadata": {},
   "source": [
    "_**Changing The Default Working Directory Path**_"
   ]
  },
  {
   "cell_type": "code",
   "execution_count": 2,
   "id": "58144edf",
   "metadata": {},
   "outputs": [],
   "source": [
    "os.chdir('C:\\\\Users\\\\mural\\\\Desktop\\\\New folder')\n",
    "df=pd.read_csv('dataset.csv')"
   ]
  },
  {
   "cell_type": "markdown",
   "id": "435813bc",
   "metadata": {},
   "source": [
    "## Data Cleaning:"
   ]
  },
  {
   "cell_type": "markdown",
   "id": "64e6a96d",
   "metadata": {},
   "source": [
    "_**Viewing the Dataset fopt identifying the unwanted columns**_"
   ]
  },
  {
   "cell_type": "code",
   "execution_count": 3,
   "id": "515c2ec7",
   "metadata": {
    "scrolled": true
   },
   "outputs": [
    {
     "data": {
      "text/html": [
       "<div>\n",
       "<style scoped>\n",
       "    .dataframe tbody tr th:only-of-type {\n",
       "        vertical-align: middle;\n",
       "    }\n",
       "\n",
       "    .dataframe tbody tr th {\n",
       "        vertical-align: top;\n",
       "    }\n",
       "\n",
       "    .dataframe thead th {\n",
       "        text-align: right;\n",
       "    }\n",
       "</style>\n",
       "<table border=\"1\" class=\"dataframe\">\n",
       "  <thead>\n",
       "    <tr style=\"text-align: right;\">\n",
       "      <th></th>\n",
       "      <th>Unnamed: 0</th>\n",
       "      <th>Name</th>\n",
       "      <th>Location</th>\n",
       "      <th>Year</th>\n",
       "      <th>Kilometers_Driven</th>\n",
       "      <th>Fuel_Type</th>\n",
       "      <th>Transmission</th>\n",
       "      <th>Owner_Type</th>\n",
       "      <th>Mileage</th>\n",
       "      <th>Engine</th>\n",
       "      <th>Power</th>\n",
       "      <th>Seats</th>\n",
       "      <th>New_Price</th>\n",
       "      <th>Price</th>\n",
       "    </tr>\n",
       "  </thead>\n",
       "  <tbody>\n",
       "    <tr>\n",
       "      <th>0</th>\n",
       "      <td>0</td>\n",
       "      <td>Maruti Wagon R LXI CNG</td>\n",
       "      <td>Mumbai</td>\n",
       "      <td>2010</td>\n",
       "      <td>72000</td>\n",
       "      <td>CNG</td>\n",
       "      <td>Manual</td>\n",
       "      <td>First</td>\n",
       "      <td>26.6 km/kg</td>\n",
       "      <td>998 CC</td>\n",
       "      <td>58.16 bhp</td>\n",
       "      <td>5.0</td>\n",
       "      <td>NaN</td>\n",
       "      <td>1.75</td>\n",
       "    </tr>\n",
       "    <tr>\n",
       "      <th>1</th>\n",
       "      <td>1</td>\n",
       "      <td>Hyundai Creta 1.6 CRDi SX Option</td>\n",
       "      <td>Pune</td>\n",
       "      <td>2015</td>\n",
       "      <td>41000</td>\n",
       "      <td>Diesel</td>\n",
       "      <td>Manual</td>\n",
       "      <td>First</td>\n",
       "      <td>19.67 kmpl</td>\n",
       "      <td>1582 CC</td>\n",
       "      <td>126.2 bhp</td>\n",
       "      <td>5.0</td>\n",
       "      <td>NaN</td>\n",
       "      <td>12.50</td>\n",
       "    </tr>\n",
       "    <tr>\n",
       "      <th>2</th>\n",
       "      <td>2</td>\n",
       "      <td>Honda Jazz V</td>\n",
       "      <td>Chennai</td>\n",
       "      <td>2011</td>\n",
       "      <td>46000</td>\n",
       "      <td>Petrol</td>\n",
       "      <td>Manual</td>\n",
       "      <td>First</td>\n",
       "      <td>18.2 kmpl</td>\n",
       "      <td>1199 CC</td>\n",
       "      <td>88.7 bhp</td>\n",
       "      <td>5.0</td>\n",
       "      <td>8.61 Lakh</td>\n",
       "      <td>4.50</td>\n",
       "    </tr>\n",
       "    <tr>\n",
       "      <th>3</th>\n",
       "      <td>3</td>\n",
       "      <td>Maruti Ertiga VDI</td>\n",
       "      <td>Chennai</td>\n",
       "      <td>2012</td>\n",
       "      <td>87000</td>\n",
       "      <td>Diesel</td>\n",
       "      <td>Manual</td>\n",
       "      <td>First</td>\n",
       "      <td>20.77 kmpl</td>\n",
       "      <td>1248 CC</td>\n",
       "      <td>88.76 bhp</td>\n",
       "      <td>7.0</td>\n",
       "      <td>NaN</td>\n",
       "      <td>6.00</td>\n",
       "    </tr>\n",
       "    <tr>\n",
       "      <th>4</th>\n",
       "      <td>4</td>\n",
       "      <td>Audi A4 New 2.0 TDI Multitronic</td>\n",
       "      <td>Coimbatore</td>\n",
       "      <td>2013</td>\n",
       "      <td>40670</td>\n",
       "      <td>Diesel</td>\n",
       "      <td>Automatic</td>\n",
       "      <td>Second</td>\n",
       "      <td>15.2 kmpl</td>\n",
       "      <td>1968 CC</td>\n",
       "      <td>140.8 bhp</td>\n",
       "      <td>5.0</td>\n",
       "      <td>NaN</td>\n",
       "      <td>17.74</td>\n",
       "    </tr>\n",
       "  </tbody>\n",
       "</table>\n",
       "</div>"
      ],
      "text/plain": [
       "   Unnamed: 0                              Name    Location  Year  \\\n",
       "0           0            Maruti Wagon R LXI CNG      Mumbai  2010   \n",
       "1           1  Hyundai Creta 1.6 CRDi SX Option        Pune  2015   \n",
       "2           2                      Honda Jazz V     Chennai  2011   \n",
       "3           3                 Maruti Ertiga VDI     Chennai  2012   \n",
       "4           4   Audi A4 New 2.0 TDI Multitronic  Coimbatore  2013   \n",
       "\n",
       "   Kilometers_Driven Fuel_Type Transmission Owner_Type     Mileage   Engine  \\\n",
       "0              72000       CNG       Manual      First  26.6 km/kg   998 CC   \n",
       "1              41000    Diesel       Manual      First  19.67 kmpl  1582 CC   \n",
       "2              46000    Petrol       Manual      First   18.2 kmpl  1199 CC   \n",
       "3              87000    Diesel       Manual      First  20.77 kmpl  1248 CC   \n",
       "4              40670    Diesel    Automatic     Second   15.2 kmpl  1968 CC   \n",
       "\n",
       "       Power  Seats  New_Price  Price  \n",
       "0  58.16 bhp    5.0        NaN   1.75  \n",
       "1  126.2 bhp    5.0        NaN  12.50  \n",
       "2   88.7 bhp    5.0  8.61 Lakh   4.50  \n",
       "3  88.76 bhp    7.0        NaN   6.00  \n",
       "4  140.8 bhp    5.0        NaN  17.74  "
      ]
     },
     "execution_count": 3,
     "metadata": {},
     "output_type": "execute_result"
    }
   ],
   "source": [
    "df.head()"
   ]
  },
  {
   "cell_type": "markdown",
   "id": "6e505101",
   "metadata": {},
   "source": [
    "_**Drooping the `unnamed: 0`,`Location` and `New_Price` Column since it is not much important for the prediction**_"
   ]
  },
  {
   "cell_type": "code",
   "execution_count": 4,
   "id": "bba0e1f0",
   "metadata": {},
   "outputs": [],
   "source": [
    "df.drop(['Unnamed: 0','Location','New_Price'],axis=1,inplace=True)"
   ]
  },
  {
   "cell_type": "markdown",
   "id": "ea9b9973",
   "metadata": {},
   "source": [
    "_**Checking the Null Values of all the Columns in the Dataset**_"
   ]
  },
  {
   "cell_type": "code",
   "execution_count": 5,
   "id": "3f93d3d4",
   "metadata": {},
   "outputs": [
    {
     "data": {
      "text/plain": [
       "Name                  0\n",
       "Year                  0\n",
       "Kilometers_Driven     0\n",
       "Fuel_Type             0\n",
       "Transmission          0\n",
       "Owner_Type            0\n",
       "Mileage               2\n",
       "Engine               36\n",
       "Power                36\n",
       "Seats                42\n",
       "Price                 0\n",
       "dtype: int64"
      ]
     },
     "execution_count": 5,
     "metadata": {},
     "output_type": "execute_result"
    }
   ],
   "source": [
    "df.isna().sum()"
   ]
  },
  {
   "cell_type": "markdown",
   "id": "7aaa9d76",
   "metadata": {},
   "source": [
    "_**There are several cars in the dataset, some of them with a count higher than 1.Sometimes the resale value of a car also \n",
    "depends on manufacturer of the car.so,here extracting  the manufacturer name form this column and adding it to the dataset**_"
   ]
  },
  {
   "cell_type": "code",
   "execution_count": 6,
   "id": "0df57d5e",
   "metadata": {},
   "outputs": [],
   "source": [
    "manufacturer=df['Name'].str.split(' ',expand=True)\n",
    "df['Manufacturer']=manufacturer[0]"
   ]
  },
  {
   "cell_type": "markdown",
   "id": "a01ab9e2",
   "metadata": {},
   "source": [
    "_**The `Year` Column from the dataset has no significant on its own so calculating the years of cars used till now and adding it to the adatset**_"
   ]
  },
  {
   "cell_type": "code",
   "execution_count": 7,
   "id": "f1ad83f1",
   "metadata": {},
   "outputs": [],
   "source": [
    "curr_time = datetime.datetime.now()\n",
    "df['New Year']= df['Year'].apply(lambda x: curr_time.year - x)"
   ]
  },
  {
   "cell_type": "markdown",
   "id": "ecd86b68",
   "metadata": {},
   "source": [
    "_**Dropping the `name` and `Year` column since the needed data is extracted from it and added to the dataset in separate columns as `Manufacturer` and `New year`**_"
   ]
  },
  {
   "cell_type": "code",
   "execution_count": 8,
   "id": "0d4ffd88",
   "metadata": {},
   "outputs": [],
   "source": [
    "df.drop(['Name','Year'],axis=1,inplace=True)"
   ]
  },
  {
   "cell_type": "markdown",
   "id": "2096b63b",
   "metadata": {},
   "source": [
    "_**The `Mileage` column defines the mileage of the car which affect the price of the car during the sales.So that removing CC and extracting the numerical values form the `Mileage` column and Since it has missing values,filling out the missing values with the mean &  modifying the column with the values**_"
   ]
  },
  {
   "cell_type": "code",
   "execution_count": 9,
   "id": "8b419396",
   "metadata": {},
   "outputs": [],
   "source": [
    "Mileage=df['Mileage'].str.split(' ',expand=True)\n",
    "df['Mileage']=pd.to_numeric(Mileage[0],errors= 'coerce')\n",
    "df['Mileage'].fillna(df['Mileage'].astype('float').mean(),inplace=True)"
   ]
  },
  {
   "cell_type": "markdown",
   "id": "3bafb771",
   "metadata": {},
   "source": [
    "_**The `Engine`column defines the mileage of the car which affect the price of the car during the sales.So that removing CC and extracting the numerical values form the `Engine` column and  Since it has missing values,filling out the missing values with the mean &  modifying the column with the values**_"
   ]
  },
  {
   "cell_type": "code",
   "execution_count": 10,
   "id": "595e9cb9",
   "metadata": {},
   "outputs": [],
   "source": [
    "Engine=df['Engine'].str.split(' ',expand=True)\n",
    "df['Engine']=pd.to_numeric(Engine[0],errors= 'coerce')\n",
    "df['Engine'].fillna(df['Engine'].astype('float').mean(),inplace=True)"
   ]
  },
  {
   "cell_type": "markdown",
   "id": "f1c881a0",
   "metadata": {},
   "source": [
    "_**The `Power`column defines the mileage of the car which affairs the price of the car during the sales.So that removing bhp extracting the numerical values form the `Power` column and Since it has missing values,filling out the missing values with the mean &  modifying the column with the values**_"
   ]
  },
  {
   "cell_type": "code",
   "execution_count": 11,
   "id": "1e5f0ecf",
   "metadata": {},
   "outputs": [],
   "source": [
    "Power=df['Power'].str.split(' ',expand=True)\n",
    "df['Power']=pd.to_numeric(Power[0],errors= 'coerce')\n",
    "df['Power'].fillna(df['Power'].astype('float').mean(),inplace=True)"
   ]
  },
  {
   "cell_type": "markdown",
   "id": "26789028",
   "metadata": {},
   "source": []
  },
  {
   "cell_type": "code",
   "execution_count": 12,
   "id": "f3ba5af0",
   "metadata": {},
   "outputs": [],
   "source": [
    "df['Seats'].fillna(df['Seats'].astype('float').mean(),inplace=True)"
   ]
  },
  {
   "cell_type": "code",
   "execution_count": 13,
   "id": "8af34c2a",
   "metadata": {},
   "outputs": [
    {
     "data": {
      "text/plain": [
       "Kilometers_Driven    0\n",
       "Fuel_Type            0\n",
       "Transmission         0\n",
       "Owner_Type           0\n",
       "Mileage              0\n",
       "Engine               0\n",
       "Power                0\n",
       "Seats                0\n",
       "Price                0\n",
       "Manufacturer         0\n",
       "New Year             0\n",
       "dtype: int64"
      ]
     },
     "execution_count": 13,
     "metadata": {},
     "output_type": "execute_result"
    }
   ],
   "source": [
    "df.isna().sum()"
   ]
  },
  {
   "cell_type": "markdown",
   "id": "e475f349",
   "metadata": {},
   "source": [
    "## Data Visualization:"
   ]
  },
  {
   "cell_type": "markdown",
   "id": "fe662337",
   "metadata": {},
   "source": [
    "_**Plotting the Bar graph with count of cars based on the `Manufacturers` and confirm that there are no null values and identify all unique values from the `Manufacture` and saving the PNG file**_"
   ]
  },
  {
   "cell_type": "code",
   "execution_count": 14,
   "id": "e6eecffe",
   "metadata": {},
   "outputs": [
    {
     "data": {
      "image/png": "[encoded data removed]",
      "text/plain": [
       "<Figure size 2000x1000 with 1 Axes>"
      ]
     },
     "metadata": {},
     "output_type": "display_data"
    }
   ],
   "source": [
    "plt.rcParams['figure.figsize']=20,10\n",
    "cars= df['Manufacturer'].value_counts()\n",
    "plot=sns.barplot(x = cars.index,y=cars.values,data=df)\n",
    "plt.xticks(rotation= 90)\n",
    "for p in plot.patches:\n",
    "    plot.annotate(p.get_height(),(p.get_x() + p.get_width() / 2.0,p.get_height()),\n",
    "                  ha ='center', va= 'center',xytext =(0,5),textcoords ='offset points')\n",
    "plt.title('Count of Car Sales by Manufacturer')\n",
    "plt.xlabel('Manufacturer')\n",
    "plt.ylabel('Count.of Cars Sold')\n",
    "plt.savefig('Count of cars.png')\n",
    "plt.show()"
   ]
  },
  {
   "cell_type": "markdown",
   "id": "c7646d7c",
   "metadata": {},
   "source": [
    "_**Getting the Correlation Values from all the numeric columns from the dataset and checking for correlation using Seaborn Heatmap & saving the PNG File**_"
   ]
  },
  {
   "cell_type": "code",
   "execution_count": 15,
   "id": "3045a14c",
   "metadata": {},
   "outputs": [
    {
     "data": {
      "image/png": "[encoded data removed]",
      "text/plain": [
       "<Figure size 2000x1000 with 2 Axes>"
      ]
     },
     "metadata": {},
     "output_type": "display_data"
    }
   ],
   "source": [
    "sns.heatmap(df.corr(),annot=True,cmap='Oranges',square=True,cbar=True)\n",
    "plt.title('Correlation Heat Map')\n",
    "plt.savefig('Correlation Heat Map.png')\n",
    "plt.show() "
   ]
  },
  {
   "cell_type": "markdown",
   "id": "35a62cbe",
   "metadata": {},
   "source": [
    "_**Assigning the dependent and independent variable**_"
   ]
  },
  {
   "cell_type": "code",
   "execution_count": 16,
   "id": "6700542a",
   "metadata": {},
   "outputs": [],
   "source": [
    "x=df.drop(['Price'],axis=1)\n",
    "y=df['Price']"
   ]
  },
  {
   "cell_type": "markdown",
   "id": "539722a1",
   "metadata": {},
   "source": [
    "## Data Preprocessing:"
   ]
  },
  {
   "cell_type": "markdown",
   "id": "bd87f74b",
   "metadata": {},
   "source": [
    "_**Splitting the dependent and independent variable into training and test dataset using train test split**_"
   ]
  },
  {
   "cell_type": "code",
   "execution_count": 17,
   "id": "e1eadad4",
   "metadata": {},
   "outputs": [],
   "source": [
    "x_train,x_test,y_train,y_test=train_test_split(x,y,test_size=0.3,random_state=45)"
   ]
  },
  {
   "cell_type": "markdown",
   "id": "9b80db0c",
   "metadata": {},
   "source": [
    "_**Creating the dummy columns for all the categorical columns such as `Manufacturer`, `Fuel_Type`, `Owner_type`, `transmission` in the train independent dataset and getting the dimensions of the train dataset for cross_check**_"
   ]
  },
  {
   "cell_type": "code",
   "execution_count": 18,
   "id": "cfcc7b05",
   "metadata": {},
   "outputs": [
    {
     "name": "stdout",
     "output_type": "stream",
     "text": [
      "(4213, 42)\n"
     ]
    }
   ],
   "source": [
    "x_train= pd.get_dummies(x_train,columns = ['Manufacturer','Fuel_Type','Owner_Type','Transmission'],drop_first = True)\n",
    "print(x_train.shape)"
   ]
  },
  {
   "cell_type": "markdown",
   "id": "23f6ecda",
   "metadata": {},
   "source": [
    "_**Creating the dummy columns for all the categorical columns such as `Manufacturer`, `Fuel_Type`, `Owner_type`, `transmission` in the test independent dataset and getting the dimensions of the test dataset for cross_check**_"
   ]
  },
  {
   "cell_type": "code",
   "execution_count": 19,
   "id": "fb716ffd",
   "metadata": {},
   "outputs": [
    {
     "name": "stdout",
     "output_type": "stream",
     "text": [
      "(1806, 38)\n"
     ]
    }
   ],
   "source": [
    "x_test = pd.get_dummies(x_test,columns = ['Manufacturer','Fuel_Type','Owner_Type','Transmission'],drop_first = True)\n",
    "print(x_test.shape)"
   ]
  },
  {
   "cell_type": "markdown",
   "id": "0598f457",
   "metadata": {},
   "source": [
    "_**By the dimensional checking its so evident that the dummy column creation is different in training and test independent data and so that filling in all the missing columns of independent data with 0**_ "
   ]
  },
  {
   "cell_type": "code",
   "execution_count": 20,
   "id": "6d656b30",
   "metadata": {},
   "outputs": [],
   "source": [
    "miss_col= set(x_train.columns) - set(x_test.columns)\n",
    "for col in miss_col:\n",
    "    x_test[col] = 0\n",
    "x_test = x_test[x_train.columns]"
   ]
  },
  {
   "cell_type": "markdown",
   "id": "5d238230",
   "metadata": {},
   "source": [
    "_**Now after processing the dimension of the column of both tarining and test independent data are same**_"
   ]
  },
  {
   "cell_type": "code",
   "execution_count": 21,
   "id": "f2fe675c",
   "metadata": {},
   "outputs": [
    {
     "name": "stdout",
     "output_type": "stream",
     "text": [
      "(4213, 42)\n",
      "(1806, 42)\n"
     ]
    }
   ],
   "source": [
    "print(x_train.shape)\n",
    "print(x_test.shape)"
   ]
  },
  {
   "cell_type": "markdown",
   "id": "df437491",
   "metadata": {},
   "source": [
    "_**standardizing the independent training variable and independent test variable of the dataset**_"
   ]
  },
  {
   "cell_type": "code",
   "execution_count": 22,
   "id": "ada94811",
   "metadata": {},
   "outputs": [],
   "source": [
    "sc=StandardScaler()\n",
    "x_train=sc.fit_transform(x_train)\n",
    "x_test=sc.fit_transform(x_test)"
   ]
  },
  {
   "cell_type": "markdown",
   "id": "9946b9ca",
   "metadata": {},
   "source": [
    "## Model Fitting:"
   ]
  },
  {
   "cell_type": "markdown",
   "id": "7004f357",
   "metadata": {},
   "source": [
    "_**Defining the Function for the ML algorithms using GridSearchCV Algorithm and Predicting the Dependent Variable by fitting the given model and create the pickle file of the model with the given Algo_name. Further getting the Algorithm Name, Best Parameters of the algorithm, R2 Score in percentage format,Mean Absolute error and Mean Squared error between the predicted values and dependent test dataset.**_"
   ]
  },
  {
   "cell_type": "code",
   "execution_count": 23,
   "id": "969e0d5c",
   "metadata": {},
   "outputs": [],
   "source": [
    "def FitModel (x,y,algo_name,algorithm,GridSearchParam,cv):\n",
    "    np.random.seed(10)\n",
    "    grid=GridSearchCV(estimator= algorithm,param_grid=GridSearchParam,cv=cv,\n",
    "                     scoring='r2',verbose=0,n_jobs=-1)\n",
    "    grid_result=grid.fit(x_train,y_train)\n",
    "    pred=grid_result.predict(x_test)\n",
    "    best_params=grid_result.best_params_\n",
    "    pickle.dump(grid_result,open(algo_name,'wb'))\n",
    "    print('Algorithm Name:',algo_name)\n",
    "    print('Best Param:',best_params)\n",
    "    print('R2 Score {}%'.format(100* r2_score(y_test,pred)))\n",
    "    print('Mean Absolute error :',mean_absolute_error(y_test,pred))\n",
    "    print('Root Mean Error :',mean_squared_error(y_test,pred))"
   ]
  },
  {
   "cell_type": "markdown",
   "id": "2dde644c",
   "metadata": {},
   "source": [
    "_**Running the function with empty parameters since the Linear Regression model doesn't need any special parameters and fitting the Linear Regression Algorithm and getting the Algorithm Name, Best Parameters of the algorithm, R2 Score in percentage format between the predicted values and dependent test dataset and also the pickle file with the name Linear Regression.**_"
   ]
  },
  {
   "cell_type": "code",
   "execution_count": 24,
   "id": "38922ae5",
   "metadata": {
    "scrolled": false
   },
   "outputs": [
    {
     "name": "stdout",
     "output_type": "stream",
     "text": [
      "Algorithm Name: Linear Regression\n",
      "Best Param: {}\n",
      "R2 Score 76.90457787320157%\n",
      "Mean Absolute error : 2.9688979955213295\n",
      "Root Mean Error : 28.666484566645543\n"
     ]
    }
   ],
   "source": [
    "params={}\n",
    "FitModel(x,y,'Linear Regression',LinearRegression(),params,cv=10)"
   ]
  },
  {
   "cell_type": "markdown",
   "id": "61ae1a87",
   "metadata": {},
   "source": [
    "_**Running the function with empty parameters since the Lasso model doesn't need any special parameters and fitting the Linear Regression Algorithm and getting the Algorithm Name, Best Parameters of the algorithm, R2 Score in percentage format between the predicted values and dependent test dataset and also the pickle file with the name Lasso.**_"
   ]
  },
  {
   "cell_type": "code",
   "execution_count": 25,
   "id": "fd65961d",
   "metadata": {
    "scrolled": true
   },
   "outputs": [
    {
     "name": "stdout",
     "output_type": "stream",
     "text": [
      "Algorithm Name: Lasso\n",
      "Best Param: {}\n",
      "R2 Score 72.26180392554386%\n",
      "Mean Absolute error : 3.3695924404312683\n",
      "Root Mean Error : 34.429185373162625\n"
     ]
    }
   ],
   "source": [
    "FitModel(x,y,'Lasso',Lasso(),params,cv=10)"
   ]
  },
  {
   "cell_type": "markdown",
   "id": "be4ba4e1",
   "metadata": {},
   "source": [
    "_**Running the function with empty parameters since the Ridge model doesn't need any special parameters and fitting the Linear Regression Algorithm and getting the Algorithm Name, Best Parameters of the algorithm, R2 Score in percentage format between the predicted values and dependent test dataset and also the pickle file with the name Ridge.**_"
   ]
  },
  {
   "cell_type": "code",
   "execution_count": 26,
   "id": "a6473180",
   "metadata": {
    "scrolled": true
   },
   "outputs": [
    {
     "name": "stdout",
     "output_type": "stream",
     "text": [
      "Algorithm Name: Ridge\n",
      "Best Param: {}\n",
      "R2 Score 76.56033098691181%\n",
      "Mean Absolute error : 2.9792346265440095\n",
      "Root Mean Error : 29.093770459008212\n"
     ]
    }
   ],
   "source": [
    "FitModel(x,y,'Ridge',Ridge(),params,cv=10)"
   ]
  },
  {
   "cell_type": "markdown",
   "id": "032699f5",
   "metadata": {},
   "source": [
    "_**Running the function with some appropriate parameters and fitting the Random Forest Regressor Algorithm and getting the Algorithm Name, Best Parameters of the algorithm, R2 Score in percentage format between the predicted values and dependent test dataset and also the pickle file with the name Random Forest.**_"
   ]
  },
  {
   "cell_type": "code",
   "execution_count": 27,
   "id": "d9e7b937",
   "metadata": {},
   "outputs": [
    {
     "name": "stdout",
     "output_type": "stream",
     "text": [
      "Algorithm Name: random Forest\n",
      "Best Param: {'n_estimators': 109, 'random_state': 45}\n",
      "R2 Score 89.23129777279568%\n",
      "Mean Absolute error : 1.8269114633905619\n",
      "Root Mean Error : 13.366321451243701\n"
     ]
    }
   ],
   "source": [
    "params={'n_estimators' : [44,109,314],\n",
    "        'random_state' : [45]}\n",
    "FitModel(x,y,'random Forest',RandomForestRegressor(),params,cv=10)"
   ]
  },
  {
   "cell_type": "markdown",
   "id": "75294e67",
   "metadata": {},
   "source": [
    "_**Running the function with some appropriate parameters and fitting the Extra Trees Regressor Algorithm and getting the Algorithm Name, Best Parameters of the algorithm, R2 Score in percentage format between the predicted values and dependent test dataset and also the pickle file with the name Extra Trees.**_"
   ]
  },
  {
   "cell_type": "code",
   "execution_count": 28,
   "id": "052d9d54",
   "metadata": {},
   "outputs": [
    {
     "name": "stdout",
     "output_type": "stream",
     "text": [
      "Algorithm Name: Extra Trees\n",
      "Best Param: {'n_estimators': 314, 'random_state': 45}\n",
      "R2 Score 91.2684112394556%\n",
      "Mean Absolute error : 1.6592943814320273\n",
      "Root Mean Error : 10.837816822408508\n"
     ]
    }
   ],
   "source": [
    "params={'n_estimators' : [44,109,314],\n",
    "        'random_state' : [45]}\n",
    "FitModel(x,y,'Extra Trees',ExtraTreesRegressor(),params,cv=10)"
   ]
  },
  {
   "cell_type": "markdown",
   "id": "cd789cfb",
   "metadata": {},
   "source": [
    "_**Running the function with some appropriate parameters and fitting the XGBoost Regressor Algorithm and getting the Algorithm Name, Best Parameters of the algorithm, R2 Score in percentage format between the predicted values and dependent test dataset and also the pickle file with the name XGBoost.**_"
   ]
  },
  {
   "cell_type": "code",
   "execution_count": 29,
   "id": "8970b0b1",
   "metadata": {},
   "outputs": [
    {
     "name": "stdout",
     "output_type": "stream",
     "text": [
      "Algorithm Name: XG Boost\n",
      "Best Param: {'n_estimators': 44, 'random_state': 45}\n",
      "R2 Score 88.46083787618653%\n",
      "Mean Absolute error : 1.8590134571748451\n",
      "Root Mean Error : 14.322631174188217\n"
     ]
    }
   ],
   "source": [
    "FitModel(x,y,'XG Boost',XGBRegressor(),params,cv=10)"
   ]
  },
  {
   "cell_type": "markdown",
   "id": "8a712a1d",
   "metadata": {},
   "source": [
    "_**Running the function with empty parameters since the CatBoost Regressor model doesn't need any special parameters and fitting the CatBoost Regressor Algorithm and getting the Algorithm Name, Best Parameters of the algorithm, R2 Score in percentage format between the predicted values and dependent test dataset and also the pickle file with the name CatBoost.**_"
   ]
  },
  {
   "cell_type": "code",
   "execution_count": 30,
   "id": "79803e22",
   "metadata": {},
   "outputs": [
    {
     "name": "stdout",
     "output_type": "stream",
     "text": [
      "Algorithm Name: Cat Boost\n",
      "Best Param: {'verbose': 0}\n",
      "R2 Score 91.79030173033371%\n",
      "Mean Absolute error : 1.6527314141407436\n",
      "Root Mean Error : 10.190036252731161\n"
     ]
    }
   ],
   "source": [
    "params ={'verbose': [0]}\n",
    "FitModel(x,y,'Cat Boost',CatBoostRegressor(),params,cv=10)"
   ]
  },
  {
   "cell_type": "markdown",
   "id": "f07e1c34",
   "metadata": {},
   "source": [
    "_**Running the function with empty parameters since the LightGBM Regressor model doesn't need any special parameters and fitting the LightGBM Regressor Algorithm and getting the Algorithm Name, Best Parameters of the algorithm, R2 Score in percentage format between the predicted values and dependent test dataset and also the pickle file with the name LightGBM.**_"
   ]
  },
  {
   "cell_type": "code",
   "execution_count": 31,
   "id": "d9f39581",
   "metadata": {},
   "outputs": [
    {
     "name": "stdout",
     "output_type": "stream",
     "text": [
      "Algorithm Name: Light GBM\n",
      "Best Param: {}\n",
      "R2 Score 88.81763190646117%\n",
      "Mean Absolute error : 1.8329374062863661\n",
      "Root Mean Error : 13.879771524072929\n"
     ]
    }
   ],
   "source": [
    "params={}\n",
    "FitModel(x,y,'Light GBM',LGBMRegressor(),params,cv=10)"
   ]
  },
  {
   "cell_type": "markdown",
   "id": "1d7502b4",
   "metadata": {},
   "source": [
    "## Boosting The Model:"
   ]
  },
  {
   "cell_type": "markdown",
   "id": "0aca8f98",
   "metadata": {},
   "source": [
    "_**Defining the Function for the ML algorithms using GridSearchCV Algorithm and boosting the model  using AdaBoostRegressor Algorithm and Predicting the Dependent Variable by fitting the given model and create the pickle file of the model with the given Algo_name. Further getting the Algorithm Name, Best Parameters of the algorithm, R2 Score in percentage format,Mean Absolute error and Mean Squared error between the predicted values and dependent test dataset.**_"
   ]
  },
  {
   "cell_type": "code",
   "execution_count": 32,
   "id": "e21a631d",
   "metadata": {},
   "outputs": [],
   "source": [
    "def BoostModel(x,y,algo_name,algorithm,GridSearchParams,cv):\n",
    "    np.random.seed(10)\n",
    "    grid = GridSearchCV(estimator = algorithm, param_grid = GridSearchParams, cv = cv,\n",
    "                       scoring = 'r2', verbose = 0,n_jobs = -1)\n",
    "    grid_result = grid.fit(x_train,y_train)\n",
    "    AB = AdaBoostRegressor(base_estimator = grid_result,learning_rate = 1)\n",
    "    boostmodel = AB.fit(x_train,y_train)\n",
    "    pred = boostmodel.predict(x_test)\n",
    "    pickle.dump(boostmodel,open(algo_name,'wb'))\n",
    "    print('Algorithm Name : ',algo_name,'\\n')\n",
    "    print('Percentage of R2 Score : {} %'.format(100 * r2_score(y_test,pred)),'\\n')\n",
    "    print('Mean Absolute Error : ',mean_absolute_error(y_test,pred),'\\n')\n",
    "    print('Root Mean Squared Error : ',sqrt(mean_squared_error(y_test,pred)),'\\n')"
   ]
  },
  {
   "cell_type": "markdown",
   "id": "5d33611f",
   "metadata": {},
   "source": [
    "_**Running the function with empty parameters and Boosting the Linear Regression Algorithm and getting the Algorithm Name, Best Parameters of the algorithm, R2 Score in percentage format between the predicted values and dependent test dataset and also the pickle file with the name Linear Regression 1.**_"
   ]
  },
  {
   "cell_type": "code",
   "execution_count": 33,
   "id": "38cb7e1a",
   "metadata": {
    "scrolled": true
   },
   "outputs": [
    {
     "name": "stdout",
     "output_type": "stream",
     "text": [
      "Algorithm Name :  Linear Regression 1 \n",
      "\n",
      "Percentage of R2 Score : -3.2876724438975355e+20 % \n",
      "\n",
      "Mean Absolute Error :  1257646790.8569725 \n",
      "\n",
      "Root Mean Squared Error :  20200798535.915405 \n",
      "\n"
     ]
    }
   ],
   "source": [
    "params={}\n",
    "BoostModel(x,y,'Linear Regression 1',LinearRegression(),params,cv=10)"
   ]
  },
  {
   "cell_type": "markdown",
   "id": "cc93e089",
   "metadata": {},
   "source": [
    "_**Running the function with empty parameters and Boosting the Lasso Algorithm and getting the Algorithm Name, Best Parameters of the algorithm, R2 Score in percentage format between the predicted values and dependent test dataset and also the pickle file with the name Lasso 1.**_"
   ]
  },
  {
   "cell_type": "code",
   "execution_count": 34,
   "id": "d0127d1e",
   "metadata": {
    "scrolled": true
   },
   "outputs": [
    {
     "name": "stdout",
     "output_type": "stream",
     "text": [
      "Algorithm Name :  Lasso 1 \n",
      "\n",
      "Percentage of R2 Score : 46.588221386833396 % \n",
      "\n",
      "Mean Absolute Error :  4.952642083713241 \n",
      "\n",
      "Root Mean Squared Error :  8.142219138535896 \n",
      "\n"
     ]
    }
   ],
   "source": [
    "BoostModel(x,y,'Lasso 1',Lasso(),params,cv=10)"
   ]
  },
  {
   "cell_type": "markdown",
   "id": "eca24664",
   "metadata": {},
   "source": [
    "_**Running the function with empty parameters and Boosting the Ridge Algorithm and getting the Algorithm Name, Best Parameters of the algorithm, R2 Score in percentage format between the predicted values and dependent test dataset and also the pickle file with the name Ridge 1.**_"
   ]
  },
  {
   "cell_type": "code",
   "execution_count": 35,
   "id": "38346a80",
   "metadata": {
    "scrolled": true
   },
   "outputs": [
    {
     "name": "stdout",
     "output_type": "stream",
     "text": [
      "Algorithm Name :  Ridge 1 \n",
      "\n",
      "Percentage of R2 Score : 64.3643619929981 % \n",
      "\n",
      "Mean Absolute Error :  3.6808781828019868 \n",
      "\n",
      "Root Mean Squared Error :  6.6506874097192545 \n",
      "\n"
     ]
    }
   ],
   "source": [
    "BoostModel(x,y,'Ridge 1',Ridge(),params,cv=10)"
   ]
  },
  {
   "cell_type": "markdown",
   "id": "98eabc2b",
   "metadata": {},
   "source": [
    "_**Running the function with empty parameters and Boosting the Random Forest Regressor Algorithm and getting the Algorithm Name, Best Parameters of the algorithm, R2 Score in percentage format between the predicted values and dependent test dataset and also the pickle file with the name Random Forest 1.**_"
   ]
  },
  {
   "cell_type": "code",
   "execution_count": 36,
   "id": "bb0f1023",
   "metadata": {},
   "outputs": [
    {
     "name": "stdout",
     "output_type": "stream",
     "text": [
      "Algorithm Name :  Random Forest 1 \n",
      "\n",
      "Percentage of R2 Score : 89.0139657664353 % \n",
      "\n",
      "Mean Absolute Error :  1.7901503217097143 \n",
      "\n",
      "Root Mean Squared Error :  3.692706072833081 \n",
      "\n"
     ]
    }
   ],
   "source": [
    "params={'n_estimators' : [44,109,314],\n",
    "        'random_state' : [45]}\n",
    "BoostModel(x,y,'Random Forest 1',RandomForestRegressor(),params,cv=10)"
   ]
  },
  {
   "cell_type": "markdown",
   "id": "7242066c",
   "metadata": {},
   "source": [
    "_**Running the function with empty parameters and Boosting the Extra Trees Regressor Algorithm and getting the Algorithm Name, Best Parameters of the algorithm, R2 Score in percentage format between the predicted values and dependent test dataset and also the pickle file with the name Extra Trees 1.**_"
   ]
  },
  {
   "cell_type": "code",
   "execution_count": 37,
   "id": "395867cc",
   "metadata": {},
   "outputs": [
    {
     "name": "stdout",
     "output_type": "stream",
     "text": [
      "Algorithm Name :  Extra Trees 1 \n",
      "\n",
      "Percentage of R2 Score : 91.59174841007513 % \n",
      "\n",
      "Mean Absolute Error :  1.6556810006005844 \n",
      "\n",
      "Root Mean Squared Error :  3.230554824405723 \n",
      "\n"
     ]
    }
   ],
   "source": [
    "BoostModel(x,y,'Extra Trees 1',ExtraTreesRegressor(),params,cv=10)"
   ]
  },
  {
   "cell_type": "markdown",
   "id": "bae74fcd",
   "metadata": {},
   "source": [
    "For,further predictions use the model with the highest r2 score and load the pickle file with the format as <span style='color:Green'>Pickle.load(open(algo_name,'rb))</span>**_  "
   ]
  }
 ],
 "metadata": {
  "kernelspec": {
   "display_name": "Python 3 (ipykernel)",
   "language": "python",
   "name": "python3"
  },
  "language_info": {
   "codemirror_mode": {
    "name": "ipython",
    "version": 3
   },
   "file_extension": ".py",
   "mimetype": "text/x-python",
   "name": "python",
   "nbconvert_exporter": "python",
   "pygments_lexer": "ipython3",
   "version": "3.9.13"
  }
 },
 "nbformat": 4,
 "nbformat_minor": 5
}
